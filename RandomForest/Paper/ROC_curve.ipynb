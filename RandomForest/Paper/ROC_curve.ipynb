{
 "cells": [
  {
   "cell_type": "code",
   "execution_count": 17,
   "metadata": {},
   "outputs": [],
   "source": [
    "from sklearn.metrics import roc_curve, precision_recall_curve\n",
    "import pandas as pd\n",
    "from matplotlib import pyplot as plt"
   ]
  },
  {
   "cell_type": "code",
   "execution_count": 10,
   "metadata": {},
   "outputs": [
    {
     "name": "stdout",
     "output_type": "stream",
     "text": [
      "274785\n"
     ]
    }
   ],
   "source": [
    "def get_sk2_pred_socre(fn):\n",
    "    site2socre = dict()\n",
    "    with open(fn, 'r') as f:\n",
    "        for line in f:\n",
    "            if line.startswith('#'): continue\n",
    "            CHROM,POS,ID,REF,ALT,QUAL,FILTER,INFO,FORMAT,NORMAL,TUMOR = line.split('\\t')\n",
    "            for tmp in INFO.split(';'):\n",
    "                if tmp.startswith('SomaticEVS'):\n",
    "                    evs_score = tmp.strip()\n",
    "            evs_score = evs_score.split('=')[-1].strip()\n",
    "            evs_score = float(evs_score)\n",
    "            site2socre[':'.join([CHROM, POS, REF, ALT])] = evs_score\n",
    "    return site2socre\n",
    "\n",
    "def get_rv_pred_score(fn):\n",
    "    site2socre = dict()\n",
    "    with open(fn, 'r') as f:\n",
    "        for line in f:\n",
    "            if line.startswith('#'): continue\n",
    "            CHROM,POS,ID,REF,ALT,QUAL,FILTER,INFO,FORMAT,NORMAL,TUMOR = line.split('\\t')\n",
    "            for tmp in INFO.split(';'):\n",
    "                if tmp.startswith('RFV'):\n",
    "                    evs_score = tmp.strip()\n",
    "            evs_score = evs_score.split('=')[-1].strip()\n",
    "            evs_score = float(evs_score)\n",
    "            site2socre[':'.join([CHROM, POS, REF, ALT])] = evs_score\n",
    "    return site2socre \n"
   ]
  },
  {
   "cell_type": "code",
   "execution_count": 24,
   "metadata": {},
   "outputs": [
    {
     "name": "stdout",
     "output_type": "stream",
     "text": [
      "length of truth vars is: 59978\n"
     ]
    },
    {
     "name": "stderr",
     "output_type": "stream",
     "text": [
      "No handles with labels found to put in legend.\n"
     ]
    },
    {
     "data": {
      "image/png": "[encoded data removed]",
      "text/plain": [
       "<Figure size 432x288 with 1 Axes>"
      ]
     },
     "metadata": {
      "needs_background": "light"
     },
     "output_type": "display_data"
    }
   ],
   "source": [
    "def get_truth(truth_file):\n",
    "    truth_vars = set()\n",
    "    with open(truth_file, 'r') as f:\n",
    "        for var in f:\n",
    "            if var[0] == '#': continue\n",
    "            items = var.split('\\t')\n",
    "            chrom, pos, id, ref, alt, _, filter = items[:7]\n",
    "            #if len(chrom) < 6 and filter == \"PASS\" and (len(ref) > 1 or len(alt) > 1) :\n",
    "            if (filter.find('PASS') == -1) and (filter.strip() != '.') :\n",
    "                #print('pass:', filter.strip())\n",
    "                continue\n",
    "            if len(chrom) < 6:\n",
    "                site = chrom + \":\" + pos + \":\" + ref + \":\" + alt\n",
    "                truth_vars.add(site)\n",
    "    return truth_vars\n",
    "\n",
    "def get_label(truth_vars, key):\n",
    "    if key in truth_vars:\n",
    "        return 1\n",
    "    else :\n",
    "        return 0\n",
    "    return 0\n",
    "\n",
    "def plot_prec_recall_curve(tmp):\n",
    "    data = pd.DataFrame()\n",
    "    data['site'] = tmp.keys()\n",
    "    data['pred'] = tmp.values()\n",
    "    data['truth'] = data.apply(rabv_get_label, axis = 1)\n",
    "    precision, recall, thresholds = precision_recall_curve(data['truth'],data['pred'])\n",
    "    plt.plot(recall, precision)\n",
    "\n",
    "\n",
    "truth_file = \"/home/user_home/data_share/sync_octupus/Truth/NA24631.PACA.hg38.sort.vcf\"\n",
    "truth_vars = get_truth(truth_file)\n",
    "print('length of truth vars is:', len(truth_vars))\n",
    "\n",
    "def rabv_get_label(x):\n",
    "    return get_label(truth_vars, str(x['site']))\n",
    "#-----construct strelka2 result------#\n",
    "# tmp1 = get_rv_pred_score(\"/home/user_home/haoz/workspace/RabbitVar/RandomForest/validate/indel.vcf\")\n",
    "# plot_prec_recall_curve(tmp1)\n",
    "# tmp2 = get_sk2_pred_socre(\"/home/large/haoz/data/bcbio_bench_result/octopus_sync_PACA/final_strelka2/OCT_NA24631_T/OCT_NA24631_T-strelka2.vcf\")\n",
    "# plot_prec_recall_curve(tmp2)\n",
    "# plt.legend()\n",
    "# plt.show()"
   ]
  },
  {
   "cell_type": "code",
   "execution_count": 26,
   "metadata": {},
   "outputs": [
    {
     "data": {
      "image/png": "[encoded data removed]",
      "text/plain": [
       "<Figure size 432x288 with 1 Axes>"
      ]
     },
     "metadata": {
      "needs_background": "light"
     },
     "output_type": "display_data"
    }
   ],
   "source": [
    "def plot_prec_recall_curve(tmp, label):\n",
    "    data = pd.DataFrame()\n",
    "    data['site'] = tmp.keys()\n",
    "    data['pred'] = tmp.values()\n",
    "    data['truth'] = data.apply(rabv_get_label, axis = 1)\n",
    "    precision, recall, thresholds = precision_recall_curve(data['truth'],data['pred'])\n",
    "    plt.plot(recall, precision, label = label)\n",
    "    plt.legend()\n",
    "plt.xlabel('Recall')    \n",
    "plt.ylabel('Precision(Indels)')\n",
    "plot_prec_recall_curve(tmp1, 'RabbitVar')\n",
    "plot_prec_recall_curve(tmp2, 'Strelka2')\n",
    "plt.show()"
   ]
  },
  {
   "cell_type": "code",
   "execution_count": 28,
   "metadata": {},
   "outputs": [
    {
     "name": "stdout",
     "output_type": "stream",
     "text": [
      "[0.10409635 0.104081   0.10408279 ... 1.         1.         1.        ]\n",
      "[1.00000000e+00 9.99835418e-01 9.99835418e-01 ... 3.29163924e-04\n",
      " 1.64581962e-04 0.00000000e+00]\n"
     ]
    }
   ],
   "source": [
    "print(precision)\n",
    "print(recall)"
   ]
  }
 ],
 "metadata": {
  "kernelspec": {
   "display_name": "Python 3",
   "language": "python",
   "name": "python3"
  },
  "language_info": {
   "codemirror_mode": {
    "name": "ipython",
    "version": 3
   },
   "file_extension": ".py",
   "mimetype": "text/x-python",
   "name": "python",
   "nbconvert_exporter": "python",
   "pygments_lexer": "ipython3",
   "version": "3.8.10"
  }
 },
 "nbformat": 4,
 "nbformat_minor": 4
}
